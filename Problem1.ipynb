{
 "cells": [
  {
   "cell_type": "markdown",
   "id": "personalized-environment",
   "metadata": {},
   "source": [
    "# Problem 1: Convolutional PDEs\n",
    "\n",
    "The convolution PDE code from the compphys repository was tested on the NVIDIA Jetson.  Multiple computational methods for convolution were tested and compared for performance.  Each method was tested using 50 iterations for a matrix size of 51x51.  Additionally, each method was timed 10 times and the average runtime was used for comparison."
   ]
  },
  {
   "cell_type": "code",
   "execution_count": 3,
   "id": "subjective-slide",
   "metadata": {},
   "outputs": [
    {
     "name": "stdout",
     "output_type": "stream",
     "text": [
      "Populating the interactive namespace from numpy and matplotlib\n"
     ]
    }
   ],
   "source": [
    "%pylab inline\n",
    "\n",
    "import time\n",
    "import scipy.signal\n",
    "import numpy as np"
   ]
  },
  {
   "cell_type": "markdown",
   "id": "behavioral-fortune",
   "metadata": {},
   "source": [
    "## Non-Vectorized Laplacian\n",
    "\n",
    "In this section, we run the most simple, loop-based convolution code given in the CompPhys repository.   "
   ]
  },
  {
   "cell_type": "code",
   "execution_count": 4,
   "id": "smaller-return",
   "metadata": {},
   "outputs": [],
   "source": [
    "N = 51\n",
    "\n",
    "u_init = np.zeros([N, N], dtype=np.float32)\n",
    "ut_init = np.zeros([N, N], dtype=np.float32)\n",
    "\n",
    "# initial condition\n",
    "u_init[N//2,N//2] = 10\n"
   ]
  },
  {
   "cell_type": "code",
   "execution_count": 5,
   "id": "continuous-planner",
   "metadata": {},
   "outputs": [],
   "source": [
    "LaPlace = np.array([[0., 1., 0.],[1., -4., 1.],[0., 1., 0.]])"
   ]
  },
  {
   "cell_type": "code",
   "execution_count": 6,
   "id": "urban-castle",
   "metadata": {},
   "outputs": [
    {
     "name": "stdout",
     "output_type": "stream",
     "text": [
      "Loop Convolution (avg): 4642.749547958374 [ms]\n"
     ]
    }
   ],
   "source": [
    "for t in range(1,2):\n",
    "    U_ = u_init\n",
    "    Ut_= ut_init\n",
    "    lU_= np.zeros_like(ut_init)\n",
    "    loop_times = []\n",
    "    start_time_loop = time.time()\n",
    "    for k in range(0,50):\n",
    "        for i in range(1,u_init.shape[0]-2):\n",
    "            for j in range(1,u_init.shape[1]-2):\n",
    "                lU_[i+1,j+1] = np.sum(LaPlace*U_[i:i+3,j:j+3])/8.\n",
    "        U_  = U_+ Ut_\n",
    "        Ut_ = Ut_ + (1./4.*lU_)\n",
    "    loop_times.append(time.time() - start_time_loop)\n",
    "print(\"Loop Convolution (avg): \"+str(sum(loop_times)/len(loop_times)*1000)+\" [ms]\")"
   ]
  },
  {
   "cell_type": "code",
   "execution_count": 7,
   "id": "functional-gauge",
   "metadata": {},
   "outputs": [
    {
     "data": {
      "text/plain": [
       "<matplotlib.image.AxesImage at 0x7f5990bac0>"
      ]
     },
     "execution_count": 7,
     "metadata": {},
     "output_type": "execute_result"
    },
    {
     "data": {
      "image/png": "[encoded data removed]",
      "text/plain": [
       "<Figure size 432x288 with 1 Axes>"
      ]
     },
     "metadata": {
      "needs_background": "light"
     },
     "output_type": "display_data"
    }
   ],
   "source": [
    "plt.imshow(U_,cmap='RdBu')"
   ]
  },
  {
   "cell_type": "code",
   "execution_count": 8,
   "id": "settled-shore",
   "metadata": {},
   "outputs": [
    {
     "data": {
      "text/plain": [
       "[<matplotlib.lines.Line2D at 0x7f59877640>]"
      ]
     },
     "execution_count": 8,
     "metadata": {},
     "output_type": "execute_result"
    },
    {
     "data": {
      "image/png": "[encoded data removed]",
      "text/plain": [
       "<Figure size 432x288 with 1 Axes>"
      ]
     },
     "metadata": {
      "needs_background": "light"
     },
     "output_type": "display_data"
    }
   ],
   "source": [
    "plt.plot(np.abs(U_[:,N//2]))"
   ]
  },
  {
   "cell_type": "markdown",
   "id": "noticed-belarus",
   "metadata": {},
   "source": [
    "## Vectorized Laplacian\n",
    "\n",
    "A vectorized form of the discrete Laplacian is now tested and compared to the loop-based code above."
   ]
  },
  {
   "cell_type": "code",
   "execution_count": 9,
   "id": "settled-specialist",
   "metadata": {},
   "outputs": [
    {
     "name": "stdout",
     "output_type": "stream",
     "text": [
      "Vectorized (avg): 11.033773422241211 [ms]\n"
     ]
    }
   ],
   "source": [
    "zero_row = np.zeros(N-2)\n",
    "zero_col = np.zeros((N,1))\n",
    "for t in range(1,10):\n",
    "    U_ = u_init\n",
    "    Ut_= ut_init\n",
    "    lU_= np.zeros_like(ut_init)\n",
    "    vector_times = []\n",
    "    start_time_loop = time.time()\n",
    "    for k in range(0,50):\n",
    "        lU_ = -4*U_[1:-1,1:-1] + U_[2:,1:-1] + U_[:-2,1:-1] + U_[1:-1,2:] + U_[1:-1,:-2]\n",
    "        \n",
    "        lU_ = np.vstack([zero_row,lU_,zero_row])\n",
    "        lU_ = np.hstack((zero_col,lU_,zero_col))\n",
    "        \n",
    "        U_  = U_+ Ut_\n",
    "        Ut_ = Ut_ + (1./4.*lU_)\n",
    "    vector_times.append(time.time() - start_time_loop)\n",
    "print(\"Vectorized (avg): \"+str(sum(vector_times)/len(vector_times)*1000)+\" [ms]\")"
   ]
  },
  {
   "cell_type": "code",
   "execution_count": 10,
   "id": "universal-sellers",
   "metadata": {},
   "outputs": [
    {
     "data": {
      "text/plain": [
       "<matplotlib.image.AxesImage at 0x7f597e4ca0>"
      ]
     },
     "execution_count": 10,
     "metadata": {},
     "output_type": "execute_result"
    },
    {
     "data": {
      "image/png": "[encoded data removed]",
      "text/plain": [
       "<Figure size 432x288 with 1 Axes>"
      ]
     },
     "metadata": {
      "needs_background": "light"
     },
     "output_type": "display_data"
    }
   ],
   "source": [
    "plt.imshow(U_,cmap='RdBu')"
   ]
  },
  {
   "cell_type": "code",
   "execution_count": 11,
   "id": "responsible-system",
   "metadata": {},
   "outputs": [
    {
     "data": {
      "text/plain": [
       "[<matplotlib.lines.Line2D at 0x7f597c00a0>]"
      ]
     },
     "execution_count": 11,
     "metadata": {},
     "output_type": "execute_result"
    },
    {
     "data": {
      "image/png": "[encoded data removed]",
      "text/plain": [
       "<Figure size 432x288 with 1 Axes>"
      ]
     },
     "metadata": {
      "needs_background": "light"
     },
     "output_type": "display_data"
    }
   ],
   "source": [
    "plt.plot(np.abs(U_[:,N//2]))"
   ]
  },
  {
   "cell_type": "markdown",
   "id": "broken-watson",
   "metadata": {},
   "source": [
    "## Strong Scaling Plot"
   ]
  },
  {
   "cell_type": "code",
   "execution_count": 12,
   "id": "devoted-lithuania",
   "metadata": {},
   "outputs": [
    {
     "name": "stdout",
     "output_type": "stream",
     "text": [
      "[ 60.27357888 332.01728619 753.55563421 992.32958974 849.1062661 ]\n"
     ]
    }
   ],
   "source": [
    "N_data = np.array([21,51,101,151,201])\n",
    "loop_time_data = np.array([630.4843425750732 , 4446.524381637573, 18528.327703475952, 42553.7531375885, 75990.71741104126])\n",
    "vector_time_data = np.array([10.460376739501953, 13.392448425292969, 24.58786964416504, 42.882680892944336, 89.49494361877441])\n",
    "Sp_data = loop_time_data/vector_time_data\n",
    "\n",
    "print(Sp_data)"
   ]
  },
  {
   "cell_type": "markdown",
   "id": "bizarre-reviewer",
   "metadata": {},
   "source": [
    "## Comments\n",
    "\n",
    "A common performance figure used in tests like this is speedup, given by,\n",
    "\n",
    "$$\n",
    "S_p = \\frac{T_1}{T_p},\n",
    "$$\n",
    "\n",
    "where $T_1$ is the runtime on a single core and $T_p$ is the parallel runtime on $p$ cores.  To measure performance in this assignment, we can use a altered form of \"speedup\" given by the equation,\n",
    "\n",
    "$$\n",
    "S_p^N = \\frac{T_{loop}^N}{T_{vectorized}^N}.\n",
    "$$\n",
    "\n",
    "Simply put, the \"speedup\" for a problem of size $N$ is defined as the ratio of the runtime of the loop-based method to the runtime of the vectorized method at that specific problem size.  With N=51, the speedup between the loop method and the scipy concolve method is $S_p = 332$, meaning the vectorized code is roughly 300 times faster than the loop-based code.  The speedup was plotted against the problem size (N).  Based on the plot, the vectorized function demonstrates very good scaling up to $N=100$.  At $100<N<100$, the speedup begins to become less linear but is still very good, however, at $N>150$ the speedup decreases.  Therefore, after $N=150$ the vectorized method scales very poorly.   "
   ]
  },
  {
   "cell_type": "code",
   "execution_count": 13,
   "id": "cardiovascular-federal",
   "metadata": {},
   "outputs": [
    {
     "data": {
      "text/plain": [
       "Text(0.5, 1.0, 'Scaling Plot')"
      ]
     },
     "execution_count": 13,
     "metadata": {},
     "output_type": "execute_result"
    },
    {
     "data": {
      "image/png": "[encoded data removed]",
      "text/plain": [
       "<Figure size 576x576 with 1 Axes>"
      ]
     },
     "metadata": {
      "needs_background": "light"
     },
     "output_type": "display_data"
    }
   ],
   "source": [
    "plt.figure(figsize(8,8))\n",
    "plt.plot(N_data,Sp_data)\n",
    "plt.xlabel(\"N\",fontsize=15)\n",
    "plt.ylabel(\"$S_p$\",fontsize=15)\n",
    "plt.title(\"Scaling Plot\")"
   ]
  },
  {
   "cell_type": "code",
   "execution_count": null,
   "id": "severe-rider",
   "metadata": {},
   "outputs": [],
   "source": []
  }
 ],
 "metadata": {
  "kernelspec": {
   "display_name": "Python 3",
   "language": "python",
   "name": "python3"
  },
  "language_info": {
   "codemirror_mode": {
    "name": "ipython",
    "version": 3
   },
   "file_extension": ".py",
   "mimetype": "text/x-python",
   "name": "python",
   "nbconvert_exporter": "python",
   "pygments_lexer": "ipython3",
   "version": "3.8.0"
  }
 },
 "nbformat": 4,
 "nbformat_minor": 5
}
