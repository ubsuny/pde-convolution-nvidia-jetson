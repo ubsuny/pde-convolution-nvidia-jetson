{
 "cells": [
  {
   "cell_type": "markdown",
   "id": "sustainable-storage",
   "metadata": {},
   "source": [
    "# Problem 2: NVIDIA Jetson Optimized Convolution\n",
    "\n",
    "We now wish to explore convolution methods optimized for the NVIDIA Jetson chip.  To do this, we utilize the library [OpenCV](https://opencv.org/), which is a library primarily aimed at real-time computer vision.  OpenCV is capable of running on CPUs and GPUs and can be installed on the NVIDIA Jetson.  In this notebook, the CPU function filter2D is tested for its performance and compared to the methods used in Problem 1."
   ]
  },
  {
   "cell_type": "code",
   "execution_count": 80,
   "id": "violent-superintendent",
   "metadata": {},
   "outputs": [],
   "source": [
    "import time\n",
    "import scipy.signal\n",
    "import numpy as np\n",
    "import sys\n",
    "import cv2 as cv\n",
    "\n",
    "import matplotlib.pyplot as plt"
   ]
  },
  {
   "cell_type": "code",
   "execution_count": 81,
   "id": "fourth-smart",
   "metadata": {},
   "outputs": [],
   "source": [
    "N = 201\n",
    "#N = 11\n",
    "\n",
    "u_init = np.zeros([N, N], dtype=np.float32)\n",
    "ut_init = np.zeros([N, N], dtype=np.float32)\n",
    "\n",
    "# initial condition\n",
    "u_init[N//2,N//2] = 10"
   ]
  },
  {
   "cell_type": "code",
   "execution_count": 82,
   "id": "desirable-sperm",
   "metadata": {},
   "outputs": [],
   "source": [
    "LaPlace = np.array([[0., 1., 0.],\n",
    "                    [1., -4., 1.],\n",
    "                    [0., 1., 0.]])"
   ]
  },
  {
   "cell_type": "code",
   "execution_count": 83,
   "id": "alone-marks",
   "metadata": {},
   "outputs": [
    {
     "name": "stdout",
     "output_type": "stream",
     "text": [
      "OpenCV (avg): 11.490273475646973 [ms]\n"
     ]
    }
   ],
   "source": [
    "U_ = u_init\n",
    "Ut_ = ut_init\n",
    "lU_= np.zeros_like(ut_init)\n",
    "cv_times = []\n",
    "start_time_loop = time.time()\n",
    "for k in range(0,50):\n",
    "    lU_ = cv.filter2D(U_, -1, LaPlace)\n",
    "    U_  = U_+ Ut_\n",
    "    Ut_ = Ut_ + (1./4.*lU_)\n",
    "    cv_times.append(time.time() - start_time_loop)\n",
    "print(\"OpenCV (avg): \"+str(sum(cv_times)/len(cv_times)*1000)+\" [ms]\")\n"
   ]
  },
  {
   "cell_type": "code",
   "execution_count": 84,
   "id": "detected-roads",
   "metadata": {},
   "outputs": [
    {
     "data": {
      "text/plain": [
       "<matplotlib.image.AxesImage at 0x7f406413d0>"
      ]
     },
     "execution_count": 84,
     "metadata": {},
     "output_type": "execute_result"
    },
    {
     "data": {
      "image/png": "[encoded data removed]",
      "text/plain": [
       "<Figure size 432x288 with 1 Axes>"
      ]
     },
     "metadata": {
      "needs_background": "light"
     },
     "output_type": "display_data"
    }
   ],
   "source": [
    "plt.imshow(U_,cmap='RdBu')"
   ]
  },
  {
   "cell_type": "code",
   "execution_count": 85,
   "id": "independent-discharge",
   "metadata": {},
   "outputs": [
    {
     "data": {
      "text/plain": [
       "[<matplotlib.lines.Line2D at 0x7f4037a730>]"
      ]
     },
     "execution_count": 85,
     "metadata": {},
     "output_type": "execute_result"
    },
    {
     "data": {
      "image/png": "[encoded data removed]",
      "text/plain": [
       "<Figure size 432x288 with 1 Axes>"
      ]
     },
     "metadata": {
      "needs_background": "light"
     },
     "output_type": "display_data"
    }
   ],
   "source": [
    "plt.plot(np.abs(U_[:,N//2]))"
   ]
  },
  {
   "cell_type": "code",
   "execution_count": 86,
   "id": "level-breakdown",
   "metadata": {},
   "outputs": [],
   "source": [
    "N = [21,51,101,151,201]\n",
    "t_cv = [1.6823291778564453, 2.827620506286621, 4.4998979568481445, 7.379860877990723, 11.490273475646973]"
   ]
  },
  {
   "cell_type": "markdown",
   "id": "dramatic-theater",
   "metadata": {},
   "source": [
    "## Comments\n",
    "\n",
    "The OpenCV function filter2D, outperforms both the loop-based and vectorized methods from Problem 1.  This method, however, is not really an optimized method for the NVIDIA Jetson.  OpenCV is available to all computer architectures and this code is only utilizing the CPU functions.  To truly optimize this code for the Jetson, OpenCV's GPU function should be used.  This will be attempted in a C++ implementation as the functions are better worked with in a C++ environment.  "
   ]
  },
  {
   "cell_type": "code",
   "execution_count": null,
   "id": "diagnostic-finnish",
   "metadata": {},
   "outputs": [],
   "source": []
  }
 ],
 "metadata": {
  "kernelspec": {
   "display_name": "Python 3",
   "language": "python",
   "name": "python3"
  },
  "language_info": {
   "codemirror_mode": {
    "name": "ipython",
    "version": 3
   },
   "file_extension": ".py",
   "mimetype": "text/x-python",
   "name": "python",
   "nbconvert_exporter": "python",
   "pygments_lexer": "ipython3",
   "version": "3.8.0"
  }
 },
 "nbformat": 4,
 "nbformat_minor": 5
}
